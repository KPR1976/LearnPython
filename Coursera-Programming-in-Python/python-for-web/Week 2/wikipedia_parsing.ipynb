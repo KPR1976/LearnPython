{
 "metadata": {
  "language_info": {
   "codemirror_mode": {
    "name": "ipython",
    "version": 3
   },
   "file_extension": ".py",
   "mimetype": "text/x-python",
   "name": "python",
   "nbconvert_exporter": "python",
   "pygments_lexer": "ipython3",
   "version": "3.9.5"
  },
  "orig_nbformat": 4,
  "kernelspec": {
   "name": "python3",
   "display_name": "Python 3.9.5 64-bit ('myenv': venv)"
  },
  "interpreter": {
   "hash": "16fd2bcd61f96a26f9dc20e70bf9c195b3ba992e73fb4e5dfd91610d0e6c2924"
  }
 },
 "nbformat": 4,
 "nbformat_minor": 2,
 "cells": [
  {
   "cell_type": "code",
   "execution_count": 1,
   "metadata": {},
   "outputs": [],
   "source": [
    "import requests\n",
    "resp = requests.get(\"http://wikipedia.org\")\n",
    "html = resp.text"
   ]
  },
  {
   "cell_type": "code",
   "execution_count": 4,
   "metadata": {},
   "outputs": [
    {
     "output_type": "execute_result",
     "data": {
      "text/plain": [
       "['//commons.wikimedia.org/',\n",
       " '//www.wikivoyage.org/',\n",
       " '//www.wiktionary.org/',\n",
       " '//www.wikibooks.org/',\n",
       " '//www.wikinews.org/',\n",
       " '//www.wikidata.org/',\n",
       " '//www.wikiversity.org/',\n",
       " '//www.wikiquote.org/',\n",
       " '//www.mediawiki.org/',\n",
       " '//www.wikisource.org/',\n",
       " '//species.wikimedia.org/',\n",
       " '//meta.wikimedia.org/']"
      ]
     },
     "metadata": {},
     "execution_count": 4
    }
   ],
   "source": [
    "import re\n",
    "re.findall(r'<a[^>]*other-project-link[^>]*href=\"([^\"]*)', html)"
   ]
  },
  {
   "cell_type": "code",
   "execution_count": 8,
   "metadata": {},
   "outputs": [
    {
     "output_type": "execute_result",
     "data": {
      "text/plain": [
       "['//commons.wikimedia.org/',\n",
       " '//www.wikivoyage.org/',\n",
       " '//www.wiktionary.org/',\n",
       " '//www.wikibooks.org/',\n",
       " '//www.wikinews.org/',\n",
       " '//www.wikidata.org/',\n",
       " '//www.wikiversity.org/',\n",
       " '//www.wikiquote.org/',\n",
       " '//www.mediawiki.org/',\n",
       " '//www.wikisource.org/',\n",
       " '//species.wikimedia.org/',\n",
       " '//meta.wikimedia.org/']"
      ]
     },
     "metadata": {},
     "execution_count": 8
    }
   ],
   "source": [
    "from bs4 import BeautifulSoup\n",
    "soup = BeautifulSoup(html, 'lxml')\n",
    "tags = soup('a', 'other-project-link')\n",
    "[tag['href'] for tag in tags]"
   ]
  }
 ]
}